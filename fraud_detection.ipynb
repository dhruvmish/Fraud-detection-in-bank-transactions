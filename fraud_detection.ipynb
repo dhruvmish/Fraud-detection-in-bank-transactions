{
 "cells": [
  {
   "cell_type": "code",
   "execution_count": null,
   "id": "cbf1a08e-aa8c-43a7-9a42-8a651461312c",
   "metadata": {},
   "outputs": [],
   "source": [
    "import streamlit as st\n",
    "import pandas as pd\n",
    "import joblib\n",
    "\n",
    "model = joblib.load(\"fraud_detection_pipeline.pkl\")\n",
    "\n",
    "st.title(\"Fraud Detection Prediction App\")\n",
    "st.markdown(\"Please enter the transaction detailes and use the predict button\")\n",
    "st.divider()\n",
    "\n",
    "transaction_type = st.selectbox(\"Transaction Type\", [\"PAYMENT\", \"TRANSFER\", \"CASH_OUT\", \"DEBIT\", \"DEPOSIT\"])\n",
    "amount = st.number_input(\"Amount\", min_value = 0.0, value = 1000.0)\n",
    "oldbalanceOrg = st.number_input(\"Old Balance (Sender)\", min_value = 0.0, value = 10000.0)\n",
    "newbalanceOrig = st.number_input(\"New Balance (Sender)\", min_value = 0.0, value = 9000.0)\n",
    "oldbalanceDest = st.number_input(\"Old Balance (Receiver)\", min_value=0.0, value=0.0)\n",
    "newbalanceDest = st.number_input(\"New Balance (Receiver)\", min_value=0.0, value=0.0)\n",
    "\n",
    "if st.button(\"Predict\"):\n",
    "    input_data = pd.DataFrame([[\n",
    "        transaction_type,\n",
    "        amount,\n",
    "        oldbalanceOrg,\n",
    "        newbalanceOrig,\n",
    "        oldbalanceDest,\n",
    "        newbalanceDest\n",
    "    ]], columns=[\"type\", \"amount\", \"oldbalanceOrg\", \"newbalanceOrig\", \"oldbalanceDest\", \"newbalanceDest\"])\n",
    "    \n",
    "    prediction = model.predict(input_data)[0]\n",
    "    \n",
    "    st.subheader(f\"Prediction : {int(prediction)}\")\n",
    "    \n",
    "    if prediction == 1:\n",
    "        st.error(\"This transaction can be fraud\")\n",
    "    else:\n",
    "        st.success(\"This transaction looks like it is not a fraud\")\n"
   ]
  }
 ],
 "metadata": {
  "kernelspec": {
   "display_name": "Python 3 (ipykernel)",
   "language": "python",
   "name": "python3"
  },
  "language_info": {
   "codemirror_mode": {
    "name": "ipython",
    "version": 3
   },
   "file_extension": ".py",
   "mimetype": "text/x-python",
   "name": "python",
   "nbconvert_exporter": "python",
   "pygments_lexer": "ipython3",
   "version": "3.11.7"
  }
 },
 "nbformat": 4,
 "nbformat_minor": 5
}
